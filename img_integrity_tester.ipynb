{
 "cells": [
  {
   "cell_type": "code",
   "execution_count": 7,
   "metadata": {},
   "outputs": [],
   "source": [
    "import cv2 as cv\n",
    "import numpy as np"
   ]
  },
  {
   "cell_type": "code",
   "execution_count": 133,
   "metadata": {},
   "outputs": [],
   "source": [
    "# enter path of original image\n",
    "org_img = \"test\\\\jfif\\\\the_rock.jfif\"\n",
    "\n",
    "# enter path of cover image\n",
    "cov_img = \"test\\\\jfif\\\\the_rock.jfif\"\n",
    "\n",
    "from os import path\n",
    "\n",
    "if not path.isfile(org_img):\n",
    "    print(f\"File {org_img} does not exist\")\n",
    "if not path.isfile(cov_img):\n",
    "    print(f\"File {cov_img} does not exist\")"
   ]
  },
  {
   "cell_type": "code",
   "execution_count": 140,
   "metadata": {},
   "outputs": [],
   "source": [
    "# check for similarities between images by looking at each bit plane and calculating the relative difference\n",
    "\n",
    "def img2bitplane(img):\n",
    "    # Get image dimensions\n",
    "    height, width, channels = img.shape\n",
    "\n",
    "    # Splitting the color channels\n",
    "    a = None\n",
    "    if channels > 3:\n",
    "        # png image with fourth alpha channel\n",
    "        b, g , r, a = cv.split(img)\n",
    "    else:\n",
    "        # jpeg or gif\n",
    "        b, g, r = cv.split(img)\n",
    "\n",
    "    \n",
    "    # assume bitdepth of 8\n",
    "    bitdepth = 8\n",
    "\n",
    "    # converting integer decimal values into 8 bit binary values\n",
    "    b_bits = np.unpackbits(np.array([b], dtype=np.uint8), axis = 1)\n",
    "    g_bits = np.unpackbits(np.array([g], dtype=np.uint8), axis = 1)\n",
    "    r_bits = np.unpackbits(np.array([r], dtype=np.uint8), axis = 1)\n",
    "    if a != None:\n",
    "        a_bits = np.unpackbits(np.array([a], dtype=np.uint8), axis = 1)\n",
    "    # print(b_bits.shape)\n",
    "\n",
    "    # lists to store sliced bit planes\n",
    "    # b_out = []\n",
    "    # g_out = []\n",
    "    # r_out = []\n",
    "    # if a.any():\n",
    "    #     a_out = []\n",
    "    # # loop over all 8 bits\n",
    "    # for p in range(bitdepth):\n",
    "    #     # create binary mask with 1 at position 'p' / (2**p) means 2 to the power of p\n",
    "    #     plane = np.full((height, width), 2 ** p, np.uint8)\n",
    "    #     # Bitwise and operation to only obtain bits at position 'p'\n",
    "    #     b_slice = cv.bitwise_and(plane,b)\n",
    "    #     g_slice = cv.bitwise_and(plane,g)\n",
    "    #     r_slice = cv.bitwise_and(plane,r)\n",
    "    #     if a.any():\n",
    "    #         a_slice = cv.bitwise_and(plane,a)\n",
    "        \n",
    "    #     # save the sliced planes in a list\n",
    "    #     b_out.append(b_slice)\n",
    "    #     g_out.append(g_slice)\n",
    "    #     r_out.append(r_slice)\n",
    "    #     if a.any():\n",
    "    #         a_out.append(a_slice)\n",
    "    \n",
    "    # if a.any():\n",
    "    #     return [b_out, g_out, r_out, a_out]\n",
    "    # else:\n",
    "    #     return [b_out, g_out, r_out]\n",
    "    if a != None:\n",
    "        return b_bits, g_bits, r_bits, a_bits\n",
    "    else:\n",
    "        return b_bits, g_bits, r_bits\n",
    "\n",
    "def load_as_bitplane(org_img):\n",
    "    ending = org_img.split(\".\")[-1]\n",
    "    if ending == \"png\":\n",
    "        # loads alpha channel as well\n",
    "        img = cv.imread(org_img, cv.IMREAD_UNCHANGED)\n",
    "    else:\n",
    "        img = cv.imread(org_img)\n",
    "\n",
    "    print(f\"size: {img.shape[:2]}\\nchannels: {img.shape[-1]}\")\n",
    "    bit_channels = img2bitplane(img)\n",
    "    shape = img.shape\n",
    "    return bit_channels, shape"
   ]
  },
  {
   "cell_type": "code",
   "execution_count": 143,
   "metadata": {},
   "outputs": [],
   "source": [
    "def compare_bitplanes():\n",
    "    bit_channels_org, shape = load_as_bitplane(org_img)\n",
    "    bit_channels_cov, _ = load_as_bitplane(cov_img)\n",
    "\n",
    "    bit_count_org = np.product(shape)*8  # bit_depth\n",
    "    for ch_ix, channel in enumerate(bit_channels_org):\n",
    "        print(\"xxx:\", len(channel))\n",
    "        pn_counter = [0,0,0,0,0,0,0,0]\n",
    "        for pn_ix, plane in enumerate(channel):\n",
    "            print(\"xx:\", len(plane))\n",
    "            for row_ix, row in enumerate(plane):\n",
    "                print(\"x: \", len(row))\n",
    "                for col_ix, col in enumerate(row):\n",
    "                    print(\"np.uint8:\", col)\n",
    "                    if col==bit_channels_cov[ch_ix][pn_ix][row_ix][col_ix]:\n",
    "                        pn_counter[col_ix] += 1\n",
    "        print(f\"channel: {ch_ix}\\t plane: \", 100*pn_counter/(bit_count_org/len(bit_channels_org)))\n",
    "\n",
    "    \n",
    "\n"
   ]
  },
  {
   "cell_type": "code",
   "execution_count": 144,
   "metadata": {},
   "outputs": [
    {
     "name": "stdout",
     "output_type": "stream",
     "text": [
      "size: (450, 800)\n",
      "channels: 3\n",
      "size: (450, 800)\n",
      "channels: 3\n",
      "xxx: 1\n",
      "xx: 3600\n",
      "x:  800\n",
      "np.uint8: 1\n",
      "np.uint8: 1\n",
      "np.uint8: 1\n",
      "np.uint8: 1\n",
      "np.uint8: 1\n",
      "np.uint8: 1\n",
      "np.uint8: 1\n",
      "np.uint8: 1\n",
      "np.uint8: 1\n"
     ]
    },
    {
     "ename": "IndexError",
     "evalue": "list index out of range",
     "output_type": "error",
     "traceback": [
      "\u001b[1;31m---------------------------------------------------------------------------\u001b[0m",
      "\u001b[1;31mIndexError\u001b[0m                                Traceback (most recent call last)",
      "\u001b[1;32m~\\AppData\\Local\\Temp/ipykernel_18604/2211537303.py\u001b[0m in \u001b[0;36m<module>\u001b[1;34m\u001b[0m\n\u001b[1;32m----> 1\u001b[1;33m \u001b[0mcompare_bitplanes\u001b[0m\u001b[1;33m(\u001b[0m\u001b[1;33m)\u001b[0m\u001b[1;33m\u001b[0m\u001b[1;33m\u001b[0m\u001b[0m\n\u001b[0m",
      "\u001b[1;32m~\\AppData\\Local\\Temp/ipykernel_18604/143507398.py\u001b[0m in \u001b[0;36mcompare_bitplanes\u001b[1;34m()\u001b[0m\n\u001b[0;32m     14\u001b[0m                     \u001b[0mprint\u001b[0m\u001b[1;33m(\u001b[0m\u001b[1;34m\"np.uint8:\"\u001b[0m\u001b[1;33m,\u001b[0m \u001b[0mcol\u001b[0m\u001b[1;33m)\u001b[0m\u001b[1;33m\u001b[0m\u001b[1;33m\u001b[0m\u001b[0m\n\u001b[0;32m     15\u001b[0m                     \u001b[1;32mif\u001b[0m \u001b[0mcol\u001b[0m\u001b[1;33m==\u001b[0m\u001b[0mbit_channels_cov\u001b[0m\u001b[1;33m[\u001b[0m\u001b[0mch_ix\u001b[0m\u001b[1;33m]\u001b[0m\u001b[1;33m[\u001b[0m\u001b[0mpn_ix\u001b[0m\u001b[1;33m]\u001b[0m\u001b[1;33m[\u001b[0m\u001b[0mrow_ix\u001b[0m\u001b[1;33m]\u001b[0m\u001b[1;33m[\u001b[0m\u001b[0mcol_ix\u001b[0m\u001b[1;33m]\u001b[0m\u001b[1;33m:\u001b[0m\u001b[1;33m\u001b[0m\u001b[1;33m\u001b[0m\u001b[0m\n\u001b[1;32m---> 16\u001b[1;33m                         \u001b[0mpn_counter\u001b[0m\u001b[1;33m[\u001b[0m\u001b[0mcol_ix\u001b[0m\u001b[1;33m]\u001b[0m \u001b[1;33m+=\u001b[0m \u001b[1;36m1\u001b[0m\u001b[1;33m\u001b[0m\u001b[1;33m\u001b[0m\u001b[0m\n\u001b[0m\u001b[0;32m     17\u001b[0m         \u001b[0mprint\u001b[0m\u001b[1;33m(\u001b[0m\u001b[1;34mf\"channel: {ch_ix}\\t plane: \"\u001b[0m\u001b[1;33m,\u001b[0m \u001b[1;36m100\u001b[0m\u001b[1;33m*\u001b[0m\u001b[0mpn_counter\u001b[0m\u001b[1;33m/\u001b[0m\u001b[1;33m(\u001b[0m\u001b[0mbit_count_org\u001b[0m\u001b[1;33m/\u001b[0m\u001b[0mlen\u001b[0m\u001b[1;33m(\u001b[0m\u001b[0mbit_channels_org\u001b[0m\u001b[1;33m)\u001b[0m\u001b[1;33m)\u001b[0m\u001b[1;33m)\u001b[0m\u001b[1;33m\u001b[0m\u001b[1;33m\u001b[0m\u001b[0m\n\u001b[0;32m     18\u001b[0m \u001b[1;33m\u001b[0m\u001b[0m\n",
      "\u001b[1;31mIndexError\u001b[0m: list index out of range"
     ]
    }
   ],
   "source": [
    "compare_bitplanes()"
   ]
  },
  {
   "cell_type": "code",
   "execution_count": null,
   "metadata": {},
   "outputs": [],
   "source": []
  }
 ],
 "metadata": {
  "interpreter": {
   "hash": "576d06cd52b865388c2133256085ed9609949972628a80ce9ffce582ed0754f5"
  },
  "kernelspec": {
   "display_name": "Python 3.8.12 64-bit ('stego-env': conda)",
   "language": "python",
   "name": "python3"
  },
  "language_info": {
   "codemirror_mode": {
    "name": "ipython",
    "version": 3
   },
   "file_extension": ".py",
   "mimetype": "text/x-python",
   "name": "python",
   "nbconvert_exporter": "python",
   "pygments_lexer": "ipython3",
   "version": "3.8.12"
  },
  "orig_nbformat": 4
 },
 "nbformat": 4,
 "nbformat_minor": 2
}

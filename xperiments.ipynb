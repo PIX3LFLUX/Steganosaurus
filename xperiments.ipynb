{
 "cells": [
  {
   "cell_type": "code",
   "execution_count": 2,
   "metadata": {},
   "outputs": [
    {
     "name": "stdout",
     "output_type": "stream",
     "text": [
      "[[[228 190 158]\n",
      "  [225 188 154]\n",
      "  [225 188 154]\n",
      "  ...\n",
      "  [184 156 155]\n",
      "  [181 153 152]\n",
      "  [181 153 152]]\n",
      "\n",
      " [[230 192 160]\n",
      "  [227 189 155]\n",
      "  [226 188 154]\n",
      "  ...\n",
      "  [182 154 153]\n",
      "  [182 154 153]\n",
      "  [180 152 152]]\n",
      "\n",
      " [[232 194 162]\n",
      "  [227 189 155]\n",
      "  [230 191 153]\n",
      "  ...\n",
      "  [185 157 156]\n",
      "  [181 153 153]\n",
      "  [182 154 154]]\n",
      "\n",
      " ...\n",
      "\n",
      " [[162 127 124]\n",
      "  [162 125 121]\n",
      "  [160 122 118]\n",
      "  ...\n",
      "  [208 207 216]\n",
      "  [127 126 135]\n",
      "  [104 106 116]]\n",
      "\n",
      " [[164 127 123]\n",
      "  [156 118 114]\n",
      "  [160 122 118]\n",
      "  ...\n",
      "  [232 241 245]\n",
      "  [188 194 199]\n",
      "  [ 91  96  97]]\n",
      "\n",
      " [[164 127 123]\n",
      "  [159 121 117]\n",
      "  [158 120 116]\n",
      "  ...\n",
      "  [209 212 220]\n",
      "  [192 195 200]\n",
      "  [ 90  91  95]]]\n"
     ]
    }
   ],
   "source": [
    "import cv2\n",
    "import numpy as np\n",
    "\n",
    "PATH = \"test\\\\jfif\\\\the_rock.jfif\"\n",
    "img = cv2.imread(PATH)\n",
    "cv2.imshow('image', img)\n",
    "cv2.waitKey(0) # waits until a key is pressed\n",
    "#cv2.destroyAllWindows()"
   ]
  },
  {
   "cell_type": "code",
   "execution_count": null,
   "metadata": {},
   "outputs": [],
   "source": [
    " "
   ]
  }
 ],
 "metadata": {
  "interpreter": {
   "hash": "175d77bce2bee6f689bcd8bcec6b951c2dafd494e2658b0f4e6fb962ed64c404"
  },
  "kernelspec": {
   "display_name": "Python 3.9.7 64-bit ('telegram': conda)",
   "language": "python",
   "name": "python3"
  },
  "language_info": {
   "codemirror_mode": {
    "name": "ipython",
    "version": 3
   },
   "file_extension": ".py",
   "mimetype": "text/x-python",
   "name": "python",
   "nbconvert_exporter": "python",
   "pygments_lexer": "ipython3",
   "version": "3.9.7"
  },
  "orig_nbformat": 4
 },
 "nbformat": 4,
 "nbformat_minor": 2
}
